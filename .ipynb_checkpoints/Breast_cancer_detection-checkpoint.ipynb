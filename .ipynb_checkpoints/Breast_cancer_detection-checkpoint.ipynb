{
 "cells": [
  {
   "cell_type": "code",
   "execution_count": 212,
   "id": "90bf1fca",
   "metadata": {},
   "outputs": [],
   "source": [
    "from sklearn.linear_model import LogisticRegression\n",
    "import pandas as pd\n",
    "import numpy as np\n",
    "from sklearn.model_selection import train_test_split\n",
    "from sklearn.ensemble import RandomForestClassifier\n",
    "from sklearn.metrics import confusion_matrix\n",
    "from sklearn.metrics import accuracy_score\n",
    "from sklearn import preprocessing\n",
    "from sklearn.linear_model import LogisticRegression\n",
    "from sklearn.preprocessing import StandardScaler\n",
    "from sklearn.pipeline import make_pipeline\n",
    "from sklearn.preprocessing import LabelEncoder "
   ]
  },
  {
   "cell_type": "code",
   "execution_count": 213,
   "id": "18e8c370",
   "metadata": {},
   "outputs": [],
   "source": [
    "df=pd.read_csv(\"breast_cancer_data.csv\")\n",
    "col_name=df.columns\n",
    "\n",
    "y=df.Status\n",
    "\n",
    "drop_cols=['Status']\n",
    "x=df.drop(drop_cols,axis=1)\n",
    "\n",
    "# remove headers\n",
    "x= x.iloc[:,:-1].values"
   ]
  },
  {
   "cell_type": "code",
   "execution_count": 214,
   "id": "ad4366e3",
   "metadata": {},
   "outputs": [],
   "source": [
    "# Replacing null value columns (text) with most used value\n",
    "a1 = df.select_dtypes(include=['object']).isnull().sum()\n",
    "for i in a1.index:\n",
    "    b1 = df[i].value_counts().index.tolist()\n",
    "    df[i] = df[i].fillna(b1[0])"
   ]
  },
  {
   "cell_type": "code",
   "execution_count": 272,
   "id": "a9d6eca9",
   "metadata": {},
   "outputs": [],
   "source": [
    "# Replacing null value columns (int, float) with most used value\n",
    "# a2 = df.select_dtypes(include=['integer','float']).isnull().sum()\n",
    "# b2 = a2[a2!=0].index \n",
    "# df = df.fillna(df[b2].mode().to_dict(orient='records')[0])"
   ]
  },
  {
   "cell_type": "code",
   "execution_count": 216,
   "id": "465a89c0",
   "metadata": {},
   "outputs": [],
   "source": [
    "#for Race Variable  \n",
    "label_encoder_x= LabelEncoder()   \n",
    "x[:,1]=label_encoder_x.fit_transform(x[:,1])"
   ]
  },
  {
   "cell_type": "code",
   "execution_count": 217,
   "id": "590aa313",
   "metadata": {},
   "outputs": [],
   "source": [
    "#for Marital Status Variable    \n",
    "x[:,2]=label_encoder_x.fit_transform(x[:,2])"
   ]
  },
  {
   "cell_type": "code",
   "execution_count": 218,
   "id": "af2413ad",
   "metadata": {},
   "outputs": [],
   "source": [
    "#for T Stage Variable     \n",
    "x[:,3]=label_encoder_x.fit_transform(x[:,3])"
   ]
  },
  {
   "cell_type": "code",
   "execution_count": 219,
   "id": "a88ae3a3",
   "metadata": {},
   "outputs": [],
   "source": [
    "#for N Stage Variable     \n",
    "x[:,4]=label_encoder_x.fit_transform(x[:,4])"
   ]
  },
  {
   "cell_type": "code",
   "execution_count": 220,
   "id": "daa56d46",
   "metadata": {},
   "outputs": [],
   "source": [
    "#for 6th Stage Variable     \n",
    "x[:,5]=label_encoder_x.fit_transform(x[:,5])"
   ]
  },
  {
   "cell_type": "code",
   "execution_count": 221,
   "id": "e7b1f403",
   "metadata": {},
   "outputs": [],
   "source": [
    "#for differentiate Variable     \n",
    "x[:,6]=label_encoder_x.fit_transform(x[:,6])"
   ]
  },
  {
   "cell_type": "code",
   "execution_count": 222,
   "id": "4fcdd9a9",
   "metadata": {},
   "outputs": [],
   "source": [
    "#for Grade Variable     \n",
    "x[:,7]=label_encoder_x.fit_transform(x[:,7])"
   ]
  },
  {
   "cell_type": "code",
   "execution_count": 223,
   "id": "43efe172",
   "metadata": {},
   "outputs": [],
   "source": [
    "#for A Stage Variable     \n",
    "x[:,8]=label_encoder_x.fit_transform(x[:,8])"
   ]
  },
  {
   "cell_type": "code",
   "execution_count": 224,
   "id": "57e5ed75",
   "metadata": {},
   "outputs": [],
   "source": [
    "#for Estrogen Status Variable     \n",
    "x[:,10]=label_encoder_x.fit_transform(x[:,10])"
   ]
  },
  {
   "cell_type": "code",
   "execution_count": 225,
   "id": "8a6406db",
   "metadata": {},
   "outputs": [],
   "source": [
    "#for Progesterone Status Variable     \n",
    "x[:,11]=label_encoder_x.fit_transform(x[:,11])"
   ]
  },
  {
   "cell_type": "code",
   "execution_count": 226,
   "id": "81ad6ed4",
   "metadata": {},
   "outputs": [],
   "source": [
    "#for Status Variable \n",
    "labelencoder_y= LabelEncoder() \n",
    "y= labelencoder_y.fit_transform(y) "
   ]
  },
  {
   "cell_type": "code",
   "execution_count": 268,
   "id": "57b63a37",
   "metadata": {},
   "outputs": [],
   "source": [
    "X_train, X_test, y_train, y_test = train_test_split(x, y,test_size=.25, random_state=42)"
   ]
  },
  {
   "cell_type": "code",
   "execution_count": 269,
   "id": "983c1f17",
   "metadata": {},
   "outputs": [
    {
     "data": {
      "text/plain": [
       "0.8707753479125249"
      ]
     },
     "execution_count": 269,
     "metadata": {},
     "output_type": "execute_result"
    }
   ],
   "source": [
    "pipe = make_pipeline(StandardScaler(), LogisticRegression())\n",
    "reg=pipe.fit(X_train, y_train)\n",
    "pipe.score(X_test, y_test)"
   ]
  },
  {
   "cell_type": "code",
   "execution_count": 273,
   "id": "e3a814dc",
   "metadata": {},
   "outputs": [],
   "source": [
    "# reg.predict(x[3].reshape(1, -1))"
   ]
  }
 ],
 "metadata": {
  "kernelspec": {
   "display_name": "Python 3 (ipykernel)",
   "language": "python",
   "name": "python3"
  },
  "language_info": {
   "codemirror_mode": {
    "name": "ipython",
    "version": 3
   },
   "file_extension": ".py",
   "mimetype": "text/x-python",
   "name": "python",
   "nbconvert_exporter": "python",
   "pygments_lexer": "ipython3",
   "version": "3.9.13"
  }
 },
 "nbformat": 4,
 "nbformat_minor": 5
}
