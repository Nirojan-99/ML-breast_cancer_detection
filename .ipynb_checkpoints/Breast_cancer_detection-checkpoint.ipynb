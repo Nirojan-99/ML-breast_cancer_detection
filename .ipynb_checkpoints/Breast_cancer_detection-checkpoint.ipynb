{
 "cells": [
  {
   "cell_type": "markdown",
   "id": "940f515c",
   "metadata": {},
   "source": [
    "### Import libraries"
   ]
  },
  {
   "cell_type": "code",
   "execution_count": 134,
   "id": "a80b80d4",
   "metadata": {},
   "outputs": [],
   "source": [
    "from sklearn.linear_model import LogisticRegression\n",
    "import pandas as pd\n",
    "from sklearn.model_selection import train_test_split\n",
    "from sklearn.metrics import confusion_matrix\n",
    "from sklearn.metrics import accuracy_score\n",
    "from sklearn import preprocessing\n",
    "from sklearn.linear_model import LogisticRegression\n",
    "# from sklearn.preprocessing import StandardScaler\n",
    "# from sklearn.pipeline import make_pipeline\n",
    "from sklearn.preprocessing import LabelEncoder \n",
    "from sklearn.metrics import mean_squared_error , accuracy_score , confusion_matrix\n",
    "from sklearn.tree import DecisionTreeClassifier\n",
    "from sklearn.ensemble import RandomForestClassifier\n",
    "from sklearn.svm import SVC"
   ]
  },
  {
   "cell_type": "markdown",
   "id": "b4d93aef",
   "metadata": {},
   "source": [
    "### Read dataset"
   ]
  },
  {
   "cell_type": "code",
   "execution_count": 135,
   "id": "18e8c370",
   "metadata": {},
   "outputs": [],
   "source": [
    "df=pd.read_csv(\"breast_cancer_data.csv\")"
   ]
  },
  {
   "cell_type": "markdown",
   "id": "6119b1b7",
   "metadata": {},
   "source": [
    "### Trim the values"
   ]
  },
  {
   "cell_type": "code",
   "execution_count": 136,
   "id": "e32d6f5f",
   "metadata": {},
   "outputs": [],
   "source": [
    "df_obj = df.select_dtypes(['object']) \n",
    "\n",
    "df[df_obj.columns] = df_obj.apply(lambda x: x.str.strip())"
   ]
  },
  {
   "cell_type": "markdown",
   "id": "950cbf19",
   "metadata": {},
   "source": [
    "### Replacing null value"
   ]
  },
  {
   "cell_type": "code",
   "execution_count": 137,
   "id": "08ecb0c1",
   "metadata": {},
   "outputs": [],
   "source": [
    "# Replacing null value columns (text) with most used value\n",
    "a1 = df.select_dtypes(include=['object']).isnull().sum()\n",
    "for i in a1.index:\n",
    "    b1 = df[i].value_counts().index.tolist()\n",
    "    df[i] = df[i].fillna(b1[0])\n",
    "    \n",
    "# Replacing null value columns (int, float) with mean value\n",
    "a1 = df.select_dtypes(include=['integer','float']).isnull().sum()\n",
    "for i in a1.index:\n",
    "    df[i] = df[i].fillna(df[i].mean())"
   ]
  },
  {
   "cell_type": "code",
   "execution_count": 138,
   "id": "44d93072",
   "metadata": {},
   "outputs": [],
   "source": [
    "y = df.Status\n",
    "\n",
    "drop_cols = ['Status']\n",
    "\n",
    "x = df.drop(drop_cols,axis=1)"
   ]
  },
  {
   "cell_type": "markdown",
   "id": "8a75f713",
   "metadata": {},
   "source": [
    "### Encoding"
   ]
  },
  {
   "cell_type": "code",
   "execution_count": 139,
   "id": "6da28d87",
   "metadata": {},
   "outputs": [],
   "source": [
    "#for Race Variable \n",
    "race_encoding = {\"White\":0,\"Black\":1,\"Other\":2}\n",
    "x[\"Race\"] = x[\"Race\"].replace(race_encoding)\n",
    "\n",
    "#for Marital Status Variable \n",
    "marital_status_encoding = {\"Married\":0,\"Single\":1,\"Divorced\":2,\"Widowed\":3,\"Separated\":4}\n",
    "x[\"Marital Status\"] = x[\"Marital Status\"].replace(marital_status_encoding)\n",
    "\n",
    "#for T Stage Variable\n",
    "t_stage_encoding = {\"T1\":0,\"T2\":1,\"T3\":2,\"T4\":3}\n",
    "x[\"T Stage \"] = x[\"T Stage \"].replace(t_stage_encoding)\n",
    "\n",
    "#for N Stage Variable \n",
    "n_stage_encoding = {\"N1\":0,\"N2\":1,\"N3\":2}\n",
    "x[\"N Stage\"] = x[\"N Stage\"].replace(n_stage_encoding)\n",
    "\n",
    "#for 6th Stage Variable \n",
    "label_encoder_x= LabelEncoder() \n",
    "x[\"6th Stage\"]=label_encoder_x.fit_transform(x[\"6th Stage\"])\n",
    "\n",
    "#for differentiate Variable     \n",
    "x[\"differentiate\"]=label_encoder_x.fit_transform(x[\"differentiate\"])\n",
    "\n",
    "#for Grade Variable \n",
    "x[\"Grade\"]=label_encoder_x.fit_transform(x[\"Grade\"])\n",
    "\n",
    "#for A Stage Variable \n",
    "a_stage_encoding = {\"Distant\":0,\"Regional\":1}\n",
    "x[\"A Stage\"] = x[\"A Stage\"].replace(a_stage_encoding)\n",
    "\n",
    "#for Estrogen Status Variable\n",
    "estrogen_stage_encoding = {\"Negative\":0,\"Positive\":1}\n",
    "x[\"Estrogen Status\"] = x[\"Estrogen Status\"].replace(estrogen_stage_encoding)\n",
    "\n",
    "#for Progesterone Status Variable\n",
    "progesterone_status_encoding = {\"Negative\":0,\"Positive\":1}\n",
    "x[\"Progesterone Status\"] = x[\"Progesterone Status\"].replace(progesterone_status_encoding)\n",
    "\n",
    "#for Status Variable \n",
    "status_encoding = {\"Alive\":0,\"Dead\":1}\n",
    "y = y.replace(status_encoding)"
   ]
  },
  {
   "cell_type": "code",
   "execution_count": 140,
   "id": "ce325b5c",
   "metadata": {},
   "outputs": [],
   "source": [
    "# remove headers\n",
    "x= x.iloc[:,:-1].values"
   ]
  },
  {
   "cell_type": "markdown",
   "id": "65409329",
   "metadata": {},
   "source": [
    "### Split the data"
   ]
  },
  {
   "cell_type": "code",
   "execution_count": 141,
   "id": "57b63a37",
   "metadata": {},
   "outputs": [],
   "source": [
    "X_train, X_test, y_train, y_test = train_test_split(x, y,test_size=.25, random_state=42)"
   ]
  },
  {
   "cell_type": "markdown",
   "id": "acda97f9",
   "metadata": {},
   "source": [
    "### Train the model Logistic Regression"
   ]
  },
  {
   "cell_type": "code",
   "execution_count": 155,
   "id": "983c1f17",
   "metadata": {},
   "outputs": [
    {
     "name": "stderr",
     "output_type": "stream",
     "text": [
      "C:\\Users\\Niro\\anaconda3\\lib\\site-packages\\sklearn\\linear_model\\_logistic.py:814: ConvergenceWarning: lbfgs failed to converge (status=1):\n",
      "STOP: TOTAL NO. of ITERATIONS REACHED LIMIT.\n",
      "\n",
      "Increase the number of iterations (max_iter) or scale the data as shown in:\n",
      "    https://scikit-learn.org/stable/modules/preprocessing.html\n",
      "Please also refer to the documentation for alternative solver options:\n",
      "    https://scikit-learn.org/stable/modules/linear_model.html#logistic-regression\n",
      "  n_iter_i = _check_optimize_result(\n"
     ]
    },
    {
     "data": {
      "text/plain": [
       "LogisticRegression()"
      ]
     },
     "execution_count": 155,
     "metadata": {},
     "output_type": "execute_result"
    }
   ],
   "source": [
    "# pipe = make_pipeline(StandardScaler(), LogisticRegression())\n",
    "# reg=pipe.fit(X_train, y_train)\n",
    "# pipe.score(X_test, y_test)\n",
    "\n",
    "lgr = LogisticRegression()\n",
    "\n",
    "lgr.fit(X_train, y_train)"
   ]
  },
  {
   "cell_type": "code",
   "execution_count": 156,
   "id": "e3a814dc",
   "metadata": {},
   "outputs": [
    {
     "data": {
      "text/plain": [
       "array([[850,  13],\n",
       "       [115,  28]], dtype=int64)"
      ]
     },
     "execution_count": 156,
     "metadata": {},
     "output_type": "execute_result"
    }
   ],
   "source": [
    "test_pred = lgr.predict(X_test)\n",
    "\n",
    "mean_squared_error(y_test,test_pred)\n",
    "accuracy_score(y_test,test_pred)\n",
    "confusion_matrix(y_test,test_pred)"
   ]
  },
  {
   "cell_type": "markdown",
   "id": "59f54089",
   "metadata": {},
   "source": [
    "### Decision Tree Classifier"
   ]
  },
  {
   "cell_type": "code",
   "execution_count": 147,
   "id": "01ab7c3d",
   "metadata": {},
   "outputs": [
    {
     "data": {
      "text/plain": [
       "array([[735, 128],\n",
       "       [ 99,  44]], dtype=int64)"
      ]
     },
     "execution_count": 147,
     "metadata": {},
     "output_type": "execute_result"
    }
   ],
   "source": [
    "dc_clf = DecisionTreeClassifier()\n",
    "dc_clf.fit(X_train, y_train)\n",
    "\n",
    "dc_pred = dc_clf.predict(X_test)\n",
    "\n",
    "mean_squared_error(y_test,dc_pred)\n",
    "\n",
    "accuracy_score(y_test,dc_pred)\n",
    "\n",
    "confusion_matrix(y_test,dc_pred)"
   ]
  },
  {
   "cell_type": "markdown",
   "id": "5db94cfb",
   "metadata": {},
   "source": [
    "### RandomForest Classifier"
   ]
  },
  {
   "cell_type": "code",
   "execution_count": 153,
   "id": "adc4b370",
   "metadata": {},
   "outputs": [
    {
     "data": {
      "text/plain": [
       "0.15308151093439365"
      ]
     },
     "execution_count": 153,
     "metadata": {},
     "output_type": "execute_result"
    }
   ],
   "source": [
    "rf_clf = RandomForestClassifier(n_estimators=10, max_depth=None,min_samples_split=2, random_state=0)\n",
    "rf_clf.fit(X_train, y_train)\n",
    "\n",
    "rf_pred = rf_clf.predict(X_test)\n",
    "\n",
    "accuracy_score(y_test,rf_pred)\n",
    "confusion_matrix(y_test,rf_pred)\n",
    "mean_squared_error(y_test,rf_pred)"
   ]
  },
  {
   "cell_type": "markdown",
   "id": "41263ebc",
   "metadata": {},
   "source": [
    "### Support vector machine Classifier"
   ]
  },
  {
   "cell_type": "code",
   "execution_count": 152,
   "id": "e2d812e8",
   "metadata": {},
   "outputs": [
    {
     "data": {
      "text/plain": [
       "0.14214711729622267"
      ]
     },
     "execution_count": 152,
     "metadata": {},
     "output_type": "execute_result"
    }
   ],
   "source": [
    "svm_clf = SVC()\n",
    "svm_clf.fit(X_train, y_train)\n",
    "\n",
    "svm_pred = svm_clf.predict(X_test)\n",
    "\n",
    "accuracy_score(y_test,svm_pred)\n",
    "confusion_matrix(y_test,svm_pred)\n",
    "mean_squared_error(y_test,svm_pred)"
   ]
  },
  {
   "cell_type": "code",
   "execution_count": null,
   "id": "4bdf747e",
   "metadata": {},
   "outputs": [],
   "source": []
  }
 ],
 "metadata": {
  "kernelspec": {
   "display_name": "Python 3 (ipykernel)",
   "language": "python",
   "name": "python3"
  },
  "language_info": {
   "codemirror_mode": {
    "name": "ipython",
    "version": 3
   },
   "file_extension": ".py",
   "mimetype": "text/x-python",
   "name": "python",
   "nbconvert_exporter": "python",
   "pygments_lexer": "ipython3",
   "version": "3.9.13"
  }
 },
 "nbformat": 4,
 "nbformat_minor": 5
}
